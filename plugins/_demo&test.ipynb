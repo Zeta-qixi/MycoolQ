{
 "nbformat": 4,
 "nbformat_minor": 2,
 "metadata": {
  "language_info": {
   "name": "python",
   "codemirror_mode": {
    "name": "ipython",
    "version": 3
   },
   "version": "3.8.1-final"
  },
  "orig_nbformat": 2,
  "file_extension": ".py",
  "mimetype": "text/x-python",
  "name": "python",
  "npconvert_exporter": "python",
  "pygments_lexer": "ipython3",
  "version": 3,
  "kernelspec": {
   "name": "python38132bit1c65d1e6130f4bf3ac2b1d9eadd9ad0b",
   "display_name": "Python 3.8.1 32-bit"
  }
 },
 "cells": [
  {
   "cell_type": "code",
   "execution_count": 35,
   "metadata": {},
   "outputs": [
    {
     "output_type": "stream",
     "name": "stdout",
     "text": "4 2\n"
    }
   ],
   "source": [
    "#返回n个result\n",
    "def xxx(a):\n",
    "    return(a*a, a)\n",
    "\n",
    "x, y = xxx(2)\n",
    "print(x, y)\n",
    ""
   ]
  },
  {
   "cell_type": "code",
   "execution_count": 42,
   "metadata": {},
   "outputs": [
    {
     "output_type": "stream",
     "name": "stdout",
     "text": "True\n"
    }
   ],
   "source": [
    "print(int('100')>99)"
   ]
  },
  {
   "cell_type": "code",
   "execution_count": 19,
   "metadata": {},
   "outputs": [
    {
     "output_type": "stream",
     "name": "stdout",
     "text": "x\n"
    }
   ],
   "source": [
    "#列表随机取值\n",
    "import random\n",
    "#list1 = [\"h\",\"e\",\"x\",\"wowow\"]\n",
    "print(random.choice([\"h\",\"e\",\"x\",\"wowow\"]))"
   ]
  },
  {
   "cell_type": "code",
   "execution_count": 33,
   "metadata": {},
   "outputs": [],
   "source": [
    "if random.random()>0.7:\n",
    "    print(\">\")\n",
    ""
   ]
  },
  {
   "cell_type": "code",
   "execution_count": 11,
   "metadata": {},
   "outputs": [
    {
     "output_type": "stream",
     "name": "stdout",
     "text": "3qweqwe #ew\n1\n"
    }
   ],
   "source": [
    "str1 = '#3qweqwe #ew'\n",
    "print(str1.strip('#'))#移除头尾的#\n",
    "if 'sk' in 'askds':\n",
    "    print(1)"
   ]
  },
  {
   "cell_type": "code",
   "execution_count": 46,
   "metadata": {},
   "outputs": [],
   "source": [
    "import pandas as pd\n",
    "test = 't'\n",
    "df = pd.DataFrame(columns=['g', 'n', 'id', 's', 'msg', test])\n",
    "a = {}\n",
    "df = df.append(a,ignore_index=True)"
   ]
  },
  {
   "cell_type": "code",
   "execution_count": 65,
   "metadata": {},
   "outputs": [],
   "source": [
    "num = 123\n",
    "a[num] = 'a'"
   ]
  },
  {
   "cell_type": "code",
   "execution_count": 79,
   "metadata": {},
   "outputs": [
    {
     "output_type": "stream",
     "name": "stdout",
     "text": "True\n"
    }
   ],
   "source": [
    "print (1323 not in a)"
   ]
  },
  {
   "cell_type": "code",
   "execution_count": 59,
   "metadata": {},
   "outputs": [
    {
     "output_type": "stream",
     "name": "stdout",
     "text": "1586596602.2905045\n"
    },
    {
     "output_type": "execute_result",
     "data": {
      "text/plain": "'17:16:42'"
     },
     "metadata": {},
     "execution_count": 59
    }
   ],
   "source": [
    "#time\n",
    "import time\n",
    "print(time.time())#1970 到现在多少秒\n",
    "time.strftime(\"%H:%M:%S\", time.localtime())"
   ]
  },
  {
   "cell_type": "code",
   "execution_count": 60,
   "metadata": {},
   "outputs": [
    {
     "output_type": "stream",
     "name": "stdout",
     "text": "1586596648.6089706\n"
    }
   ],
   "source": [
    "print(time.time())"
   ]
  },
  {
   "cell_type": "code",
   "execution_count": 19,
   "metadata": {},
   "outputs": [
    {
     "output_type": "stream",
     "name": "stdout",
     "text": "['ertas\\n', 'dfaef\\n', 'ds\\n']\n"
    }
   ],
   "source": [
    "with open('_t.txt','r') as f:\n",
    "    lines = f.readlines()  # 读取所有行\n",
    "\n",
    "    print(lines[-3:])"
   ]
  },
  {
   "cell_type": "code",
   "execution_count": null,
   "metadata": {},
   "outputs": [],
   "source": []
  }
 ]
}