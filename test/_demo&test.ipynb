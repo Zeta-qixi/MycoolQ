{
 "nbformat": 4,
 "nbformat_minor": 2,
 "metadata": {
  "language_info": {
   "name": "python",
   "codemirror_mode": {
    "name": "ipython",
    "version": 3
   },
   "version": "3.8.1-final"
  },
  "orig_nbformat": 2,
  "file_extension": ".py",
  "mimetype": "text/x-python",
  "name": "python",
  "npconvert_exporter": "python",
  "pygments_lexer": "ipython3",
  "version": 3,
  "kernelspec": {
   "name": "python38132bit1c65d1e6130f4bf3ac2b1d9eadd9ad0b",
   "display_name": "Python 3.8.1 32-bit"
  }
 },
 "cells": [
  {
   "cell_type": "code",
   "execution_count": 42,
   "metadata": {},
   "outputs": [
    {
     "output_type": "stream",
     "name": "stdout",
     "text": "True\n"
    }
   ],
   "source": [
    "print(int('100')>99)"
   ]
  },
  {
   "cell_type": "code",
   "execution_count": 19,
   "metadata": {},
   "outputs": [
    {
     "output_type": "stream",
     "name": "stdout",
     "text": "x\n"
    }
   ],
   "source": [
    "#列表随机取值\n",
    "import random\n",
    "#list1 = [\"h\",\"e\",\"x\",\"wowow\"]\n",
    "print(random.choice([\"h\",\"e\",\"x\",\"wowow\"]))"
   ]
  },
  {
   "cell_type": "code",
   "execution_count": 2,
   "metadata": {},
   "outputs": [
    {
     "output_type": "stream",
     "name": "stdout",
     "text": "<class 'int'> 2\nkey a in dict: True\nFalse\n"
    }
   ],
   "source": [
    "# 字典操作 dict and list  实现一key多value\n",
    "\n",
    "# dict.setdefault(key, default=None) \n",
    "\n",
    "d = {}\n",
    "d.get('Thomas', -1)\n",
    "d.setdefault('a', 2)\n",
    "print(type(d['a']),d['a'])\n",
    "\n",
    "print('key a in dict:', \"a\" in d)  # a 是否 d 的keys\n",
    "print('v' in d)"
   ]
  },
  {
   "cell_type": "code",
   "execution_count": 72,
   "metadata": {},
   "outputs": [
    {
     "output_type": "execute_result",
     "data": {
      "text/plain": "['ad', '1', '2', '3', 'e', 'n', 'd']"
     },
     "metadata": {},
     "execution_count": 72
    }
   ],
   "source": [
    "a = ['ad','1','2','3']\n",
    "b = ['b','bb']\n",
    "c = []\n",
    "c.extend(a)\n",
    "end = 'end'\n",
    "c.extend(end)\n",
    "c"
   ]
  },
  {
   "cell_type": "code",
   "execution_count": 10,
   "metadata": {},
   "outputs": [
    {
     "output_type": "execute_result",
     "data": {
      "text/plain": "['https://gchat.qpic.cn/gchatpic_new/1175256228/648868273-2757840399-F773F776804123547E007B0C4FCB7BE0/0?term=2']"
     },
     "metadata": {},
     "execution_count": 10
    }
   ],
   "source": [
    "import re\n",
    "p='\\\\[CQ\\\\:image\\\\,file\\\\=.*?\\\\,url\\\\=(.*?)\\\\]'\n",
    "msg = '[CQ:image,file=F773F776804123547E007B0C4FCB7BE0.jpg,url=https://gchat.qpic.cn/gchatpic_new/1175256228/648868273-2757840399-F773F776804123547E007B0C4FCB7BE0/0?term=2]'\n",
    "img=re.findall(p,msg)\n",
    "img"
   ]
  },
  {
   "cell_type": "code",
   "execution_count": 22,
   "metadata": {},
   "outputs": [
    {
     "output_type": "execute_result",
     "data": {
      "text/plain": "int"
     },
     "metadata": {},
     "execution_count": 22
    }
   ],
   "source": [
    "w = '@123142354'\n",
    "p=r'\\d+'\n",
    "qq=re.findall(p,w)\n",
    "int(qq[0])"
   ]
  },
  {
   "cell_type": "code",
   "execution_count": 46,
   "metadata": {},
   "outputs": [],
   "source": [
    "# df 加行？\n",
    "import pandas as pd\n",
    "test = 't'\n",
    "df = pd.DataFrame(columns=['g', 'n', 'id', 's', 'msg', test])\n",
    "a = {}\n",
    "df = df.append(a,ignore_index=True)"
   ]
  },
  {
   "cell_type": "code",
   "execution_count": 3,
   "metadata": {},
   "outputs": [
    {
     "output_type": "stream",
     "name": "stdout",
     "text": "1586808368.6708624\n1586808368.6718447\n"
    },
    {
     "output_type": "execute_result",
     "data": {
      "text/plain": "True"
     },
     "metadata": {},
     "execution_count": 3
    }
   ],
   "source": [
    "#time\n",
    "import time\n",
    "print(time.time())#1970 到现在多少秒\n",
    "time.strftime(\"%H:%M:%S\", time.localtime())\n",
    "print(time.time())\n",
    "time.time() - 0 > 30"
   ]
  },
  {
   "cell_type": "code",
   "execution_count": 5,
   "metadata": {},
   "outputs": [
    {
     "output_type": "stream",
     "name": "stdout",
     "text": "['4\\n', 'df\\n', 'sg\\n', 'ertas\\n', 'dfaef\\n', 'ds\\n', '\\n', \"{'anonymous': None, \\n\", \"'font': 10477392, \\n\", \"'group_id': 434132964, \\n\", \"'message': [{'type': 'image', 'data': {'file': 'CF6B317750D96DCA525CE71B047FE19D.jpg', 'url': 'https://gchat.qpic.cn/gchatpic_new/1019289695/3924132964-3149953076-CF6B317750D96DCA525CE71B047FE19D/0?term=2'}}], \\n\", \"'message_id': 3613, \\n\", \"'message_type': 'group', \\n\", \"'post_type': 'message', \\n\", \"'raw_message': '[CQ:image,file=CF6B317750D96DCA525CE71B047FE19D.jpg]', \\n\", \"'self_id': 894296015, \\n\", \"'sender': {'age': 0, 'area': '', 'card': '', 'level': '鍐掓场', 'nickname': '味', 'role': 'owner', 'sex': 'male', 'title': '', 'user_id': 1019289695}, \\n\", \"'sub_type': 'normal', \\n\", \"'time': 1586764856, \\n\", \"'user_id': 1019289695}>\"]\n"
    }
   ],
   "source": [
    "with open('_t.txt','r') as f:\n",
    "    lines = f.readlines()  # 读取所有行\n",
    "\n",
    "    print(lines[-100:])"
   ]
  },
  {
   "cell_type": "code",
   "execution_count": 87,
   "metadata": {},
   "outputs": [
    {
     "output_type": "execute_result",
     "data": {
      "text/plain": "['114', '514']"
     },
     "metadata": {},
     "execution_count": 87
    }
   ],
   "source": [
    "\n"
   ]
  },
  {
   "cell_type": "code",
   "execution_count": 61,
   "metadata": {},
   "outputs": [
    {
     "output_type": "execute_result",
     "data": {
      "text/plain": "215"
     },
     "metadata": {},
     "execution_count": 61
    }
   ],
   "source": [
    "len(data.index.tolist())#data.values.tolist()"
   ]
  },
  {
   "cell_type": "code",
   "execution_count": 66,
   "metadata": {},
   "outputs": [],
   "source": [
    "import pandas as pd\n",
    "path = 'data.txt'\n",
    "newdata = pd.read_excel('train.xlsx')\n",
    "tolist=newdata.values.tolist()\n",
    "data = {}\n",
    "with open(path) as f:\n",
    "    for line in f.readlines():\n",
    "        k = line.split()\n",
    "        data[k[0]] = k[1:]\n",
    "\n",
    "for key,vaule in tolist:\n",
    "    if key not in data:\n",
    "        data.setdefault(key, []).append(vaule)\n",
    "    else :\n",
    "        if vaule not in data[key]:\n",
    "            data[key].append(vaule)\n",
    "\n",
    "with open(path, 'w+') as f :\n",
    "    for i in data:\n",
    "        f.write(f'{i} ')\n",
    "        words = ''\n",
    "        for ii in data[i]:\n",
    "            words = words + ii +' '\n",
    "        f.write(f'{words}\\n')\n",
    "\n"
   ]
  }
 ]
}